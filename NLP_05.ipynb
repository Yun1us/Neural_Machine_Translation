{
 "cells": [
  {
   "cell_type": "code",
   "execution_count": 3,
   "id": "513f20af",
   "metadata": {},
   "outputs": [
    {
     "name": "stdout",
     "output_type": "stream",
     "text": [
      "                                   EN                                  FR\n",
      "0           i m at a loss for words .               j en perds mes mots .\n",
      "1           i m at a loss for words .              les mots me manquent .\n",
      "2           i m at a loss for words .         je ne trouve pas les mots .\n",
      "3  you re in better shape than i am .  tu es en meilleure forme que moi .\n",
      "4                 you are in my way .              tu es sur mon chemin .\n"
     ]
    }
   ],
   "source": [
    "import pandas as pd \n",
    "dataset = pd.read_csv(\"data.csv\") \n",
    "print(dataset.head())\n",
    "en_sentences = dataset[\"EN\"].tolist()\n",
    "fr_sentences = dataset[\"FR\"].tolist()"
   ]
  },
  {
   "cell_type": "code",
   "execution_count": null,
   "id": "913f536d",
   "metadata": {},
   "outputs": [],
   "source": [
    "from collections import Counter \n",
    "\n",
    "class Vocab:\n",
    "    def __init__(self):\n",
    "        self.max_len = 30\n",
    "        self.token_to_idx = {\"<UNK>\": 0}\n",
    "        self.idx_to_token = {0: \"<UNK>\"}\n",
    "        self.freq = Counter()\n",
    "\n",
    "    def add_token(self, token):\n",
    "        if token not in self.token_to_idx:\n",
    "            idx = len(self.token_to_idx)\n",
    "            self.token_to_idx[token] = idx\n",
    "            self.idx_to_token[idx] = token \n",
    "\n",
    "    def build_Vocab(self, sentences):\n",
    "    \n",
    "        count = Counter()\n",
    "        for sentence in sentences:\n",
    "            tokens = sentence.lower().split()\n",
    "            for token in tokens:\n",
    "                self.add_token(token)"
   ]
  }
 ],
 "metadata": {
  "kernelspec": {
   "display_name": ".venv",
   "language": "python",
   "name": "python3"
  },
  "language_info": {
   "codemirror_mode": {
    "name": "ipython",
    "version": 3
   },
   "file_extension": ".py",
   "mimetype": "text/x-python",
   "name": "python",
   "nbconvert_exporter": "python",
   "pygments_lexer": "ipython3",
   "version": "3.11.12"
  }
 },
 "nbformat": 4,
 "nbformat_minor": 5
}
